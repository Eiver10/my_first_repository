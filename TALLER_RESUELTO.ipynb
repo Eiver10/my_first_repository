{
  "cells": [
    {
      "cell_type": "markdown",
      "metadata": {
        "id": "view-in-github",
        "colab_type": "text"
      },
      "source": [
        "<a href=\"https://colab.research.google.com/github/Eiver10/my_first_repository/blob/main/TALLER_RESUELTO.ipynb\" target=\"_parent\"><img src=\"https://colab.research.google.com/assets/colab-badge.svg\" alt=\"Open In Colab\"/></a>"
      ]
    },
    {
      "cell_type": "code",
      "source": [
        "ALGORITMO PARA CALCULAR EL COSTO DEL ALQUILER DE BICICLETAS\n",
        "calcular el coste base\n",
        "    si horas <= el costo base = 0\n",
        "    costo adicional = 10000\n",
        "calcular el coste adicional en funcion del numero de horas\n",
        "    si horas <= 4:\n",
        "        costo adicional = horas * 3500\n",
        "    si horas <= 8:\n",
        "        costo adicional = 4 * 3500 + (horas - 4) * 2500\n",
        "    si horas > 8:\n",
        "        costo adicional = 4 * 3500 + 4 * 2500 + (horas - 8) * 1500\n",
        "calcular el coste total\n",
        "    costo total = costo base + costo adicional\n",
        "si el alquiler es un dia de la semana (lunes a viernes), se aplica un descuento de 10% en el subtotal\n",
        "si el alquiler pasa de las 24 horas, se añadira una penalizacion de 15.000\n",
        "calcule el costo total sumando el subtotal y la penalizacion\n",
        "\n",
        "fin."
      ],
      "metadata": {
        "id": "nPqiUDn6Pw-N"
      },
      "execution_count": null,
      "outputs": []
    },
    {
      "cell_type": "code",
      "source": [
        "# PSEUDOCÓDIGO PARA CALCULAR EL COSTO DEL ALQUILER DE BICICLETAS\n",
        "#start\n",
        "horas = int(input(\"Ingrese la cantidad de horas: \"))\n",
        "input(\"Ingrese día de la semana: \")\n",
        "\n",
        "costo_base = 10000\n",
        "costo_adicional = 0\n",
        "\n",
        "if horas <= 4:\n",
        "    costo_adicional = horas * 3500\n",
        "elif horas > 4 and horas <= 8:\n",
        "    costo_adicional = 4 * 3500 + (horas - 4) * 2500\n",
        "elif horas > 8:\n",
        "    costo_adicional = 4 * 3500 + 4 * 2500 + (horas - 8) * 1500\n",
        "\n",
        "subtotal = costo_base + costo_adicional\n",
        "\n",
        "if dia_de_la_semana in [\"lunes\", \"martes\", \"miércoles\", \"jueves\", \"viernes\"]:\n",
        "    descuento = subtotal * 0.10\n",
        "    subtotal = subtotal - descuento\n",
        "\n",
        "if horas > 24:\n",
        "    penalización = (horas - 24) / 24 * 15000\n",
        "    total_costo = subtotal + penalización\n",
        "else:\n",
        "    total_costo = subtotal\n",
        "\n",
        "print(\"El costo total del alquiler es:\", total_costo)\n"
      ],
      "metadata": {
        "id": "-KMpM7sHhWeu",
        "outputId": "d7de5ed8-4f7d-4ade-cf54-fd963bfd7966",
        "colab": {
          "base_uri": "https://localhost:8080/"
        }
      },
      "execution_count": 33,
      "outputs": [
        {
          "output_type": "stream",
          "name": "stdout",
          "text": [
            "Ingrese la cantidad de horas: 98\n",
            "Ingrese día de la semana: miercoles\n",
            "El costo total del alquiler es: 198350.0\n"
          ]
        }
      ]
    },
    {
      "cell_type": "code",
      "source": [
        "# Código para calcular el costo del alquiler de bicicletas\n",
        "\n",
        "# Solicitar la cantidad de horas\n",
        "horas = int(input(\"Ingrese la cantidad de horas: \"))\n",
        "# Solicitar el día de la semana\n",
        "dia_de_la_semana = input(\"Ingrese día de la semana: \").lower()\n",
        "\n",
        "# Definir costos\n",
        "costo_base = 10000\n",
        "costo_adicional = 0\n",
        "\n",
        "# Calcular costo adicional\n",
        "if horas <= 4:\n",
        "    costo_adicional = horas * 3500\n",
        "elif horas > 4 and horas <= 8:\n",
        "    costo_adicional = 4 * 3500 + (horas - 4) * 2500\n",
        "elif horas > 8:\n",
        "    costo_adicional = 4 * 3500 + 4 * 2500 + (horas - 8) * 1500\n",
        "\n",
        "# Calcular subtotal\n",
        "subtotal = costo_base + costo_adicional\n",
        "\n",
        "# Aplicar descuento si corresponde\n",
        "if dia_de_la_semana in [\"lunes\", \"martes\", \"miércoles\", \"jueves\", \"viernes\"]:\n",
        "    descuento = subtotal * 0.10\n",
        "    subtotal -= descuento  # Restar descuento del subtotal\n",
        "\n",
        "# Calcular penalización si corresponde\n",
        "if horas > 24:\n",
        "    penalización = (horas - 24) / 24 * 15000\n",
        "    total_costo = subtotal + penalización\n",
        "else:\n",
        "    total_costo = subtotal\n",
        "\n",
        "# Mostrar el costo total\n",
        "print(\"El costo total del alquiler es:\", total_costo)\n"
      ],
      "metadata": {
        "id": "o4BC84otnjff",
        "outputId": "f896821e-eade-4d75-b7e6-bd5e330a797e",
        "colab": {
          "base_uri": "https://localhost:8080/"
        }
      },
      "execution_count": 35,
      "outputs": [
        {
          "output_type": "stream",
          "name": "stdout",
          "text": [
            "Ingrese la cantidad de horas: 15\n",
            "Ingrese día de la semana: sabado\n",
            "El costo total del alquiler es: 44500\n"
          ]
        }
      ]
    }
  ],
  "metadata": {
    "colab": {
      "name": "Te damos la bienvenida a Colaboratory",
      "provenance": [],
      "include_colab_link": true
    },
    "kernelspec": {
      "display_name": "Python 3",
      "name": "python3"
    }
  },
  "nbformat": 4,
  "nbformat_minor": 0
}